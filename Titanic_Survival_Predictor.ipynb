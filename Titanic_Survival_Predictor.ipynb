{
 "cells": [
  {
   "cell_type": "markdown",
   "id": "bc3cd909",
   "metadata": {},
   "source": [
    "## Kaggle Titanic Survival predictor\n",
    "\n",
    "#### Training a model so that we can predict the chance of survival of the victims of Titanic tragedy"
   ]
  },
  {
   "cell_type": "code",
   "execution_count": 57,
   "id": "40fa3c0b",
   "metadata": {},
   "outputs": [],
   "source": [
    "# import the libraries\n",
    "\n",
    "import pandas as pd\n",
    "import numpy as np"
   ]
  },
  {
   "cell_type": "code",
   "execution_count": 58,
   "id": "df4943fa",
   "metadata": {},
   "outputs": [
    {
     "data": {
      "text/html": [
       "<div>\n",
       "<style scoped>\n",
       "    .dataframe tbody tr th:only-of-type {\n",
       "        vertical-align: middle;\n",
       "    }\n",
       "\n",
       "    .dataframe tbody tr th {\n",
       "        vertical-align: top;\n",
       "    }\n",
       "\n",
       "    .dataframe thead th {\n",
       "        text-align: right;\n",
       "    }\n",
       "</style>\n",
       "<table border=\"1\" class=\"dataframe\">\n",
       "  <thead>\n",
       "    <tr style=\"text-align: right;\">\n",
       "      <th></th>\n",
       "      <th>PassengerId</th>\n",
       "      <th>Survived</th>\n",
       "      <th>Pclass</th>\n",
       "      <th>Name</th>\n",
       "      <th>Sex</th>\n",
       "      <th>Age</th>\n",
       "      <th>SibSp</th>\n",
       "      <th>Parch</th>\n",
       "      <th>Ticket</th>\n",
       "      <th>Fare</th>\n",
       "      <th>Cabin</th>\n",
       "      <th>Embarked</th>\n",
       "    </tr>\n",
       "  </thead>\n",
       "  <tbody>\n",
       "    <tr>\n",
       "      <th>0</th>\n",
       "      <td>1</td>\n",
       "      <td>0</td>\n",
       "      <td>3</td>\n",
       "      <td>Braund, Mr. Owen Harris</td>\n",
       "      <td>male</td>\n",
       "      <td>22.0</td>\n",
       "      <td>1</td>\n",
       "      <td>0</td>\n",
       "      <td>A/5 21171</td>\n",
       "      <td>7.2500</td>\n",
       "      <td>NaN</td>\n",
       "      <td>S</td>\n",
       "    </tr>\n",
       "    <tr>\n",
       "      <th>1</th>\n",
       "      <td>2</td>\n",
       "      <td>1</td>\n",
       "      <td>1</td>\n",
       "      <td>Cumings, Mrs. John Bradley (Florence Briggs Th...</td>\n",
       "      <td>female</td>\n",
       "      <td>38.0</td>\n",
       "      <td>1</td>\n",
       "      <td>0</td>\n",
       "      <td>PC 17599</td>\n",
       "      <td>71.2833</td>\n",
       "      <td>C85</td>\n",
       "      <td>C</td>\n",
       "    </tr>\n",
       "    <tr>\n",
       "      <th>2</th>\n",
       "      <td>3</td>\n",
       "      <td>1</td>\n",
       "      <td>3</td>\n",
       "      <td>Heikkinen, Miss. Laina</td>\n",
       "      <td>female</td>\n",
       "      <td>26.0</td>\n",
       "      <td>0</td>\n",
       "      <td>0</td>\n",
       "      <td>STON/O2. 3101282</td>\n",
       "      <td>7.9250</td>\n",
       "      <td>NaN</td>\n",
       "      <td>S</td>\n",
       "    </tr>\n",
       "    <tr>\n",
       "      <th>3</th>\n",
       "      <td>4</td>\n",
       "      <td>1</td>\n",
       "      <td>1</td>\n",
       "      <td>Futrelle, Mrs. Jacques Heath (Lily May Peel)</td>\n",
       "      <td>female</td>\n",
       "      <td>35.0</td>\n",
       "      <td>1</td>\n",
       "      <td>0</td>\n",
       "      <td>113803</td>\n",
       "      <td>53.1000</td>\n",
       "      <td>C123</td>\n",
       "      <td>S</td>\n",
       "    </tr>\n",
       "    <tr>\n",
       "      <th>4</th>\n",
       "      <td>5</td>\n",
       "      <td>0</td>\n",
       "      <td>3</td>\n",
       "      <td>Allen, Mr. William Henry</td>\n",
       "      <td>male</td>\n",
       "      <td>35.0</td>\n",
       "      <td>0</td>\n",
       "      <td>0</td>\n",
       "      <td>373450</td>\n",
       "      <td>8.0500</td>\n",
       "      <td>NaN</td>\n",
       "      <td>S</td>\n",
       "    </tr>\n",
       "  </tbody>\n",
       "</table>\n",
       "</div>"
      ],
      "text/plain": [
       "   PassengerId  Survived  Pclass  \\\n",
       "0            1         0       3   \n",
       "1            2         1       1   \n",
       "2            3         1       3   \n",
       "3            4         1       1   \n",
       "4            5         0       3   \n",
       "\n",
       "                                                Name     Sex   Age  SibSp  \\\n",
       "0                            Braund, Mr. Owen Harris    male  22.0      1   \n",
       "1  Cumings, Mrs. John Bradley (Florence Briggs Th...  female  38.0      1   \n",
       "2                             Heikkinen, Miss. Laina  female  26.0      0   \n",
       "3       Futrelle, Mrs. Jacques Heath (Lily May Peel)  female  35.0      1   \n",
       "4                           Allen, Mr. William Henry    male  35.0      0   \n",
       "\n",
       "   Parch            Ticket     Fare Cabin Embarked  \n",
       "0      0         A/5 21171   7.2500   NaN        S  \n",
       "1      0          PC 17599  71.2833   C85        C  \n",
       "2      0  STON/O2. 3101282   7.9250   NaN        S  \n",
       "3      0            113803  53.1000  C123        S  \n",
       "4      0            373450   8.0500   NaN        S  "
      ]
     },
     "execution_count": 58,
     "metadata": {},
     "output_type": "execute_result"
    }
   ],
   "source": [
    "# Read training data from data folder\n",
    "\n",
    "training_data = pd.read_csv(\"./data/train.csv\")\n",
    "training_data.head()"
   ]
  },
  {
   "cell_type": "code",
   "execution_count": 59,
   "id": "8b2974c2",
   "metadata": {},
   "outputs": [
    {
     "data": {
      "text/html": [
       "<div>\n",
       "<style scoped>\n",
       "    .dataframe tbody tr th:only-of-type {\n",
       "        vertical-align: middle;\n",
       "    }\n",
       "\n",
       "    .dataframe tbody tr th {\n",
       "        vertical-align: top;\n",
       "    }\n",
       "\n",
       "    .dataframe thead th {\n",
       "        text-align: right;\n",
       "    }\n",
       "</style>\n",
       "<table border=\"1\" class=\"dataframe\">\n",
       "  <thead>\n",
       "    <tr style=\"text-align: right;\">\n",
       "      <th></th>\n",
       "      <th>PassengerId</th>\n",
       "      <th>Pclass</th>\n",
       "      <th>Name</th>\n",
       "      <th>Sex</th>\n",
       "      <th>Age</th>\n",
       "      <th>SibSp</th>\n",
       "      <th>Parch</th>\n",
       "      <th>Ticket</th>\n",
       "      <th>Fare</th>\n",
       "      <th>Cabin</th>\n",
       "      <th>Embarked</th>\n",
       "    </tr>\n",
       "  </thead>\n",
       "  <tbody>\n",
       "    <tr>\n",
       "      <th>0</th>\n",
       "      <td>892</td>\n",
       "      <td>3</td>\n",
       "      <td>Kelly, Mr. James</td>\n",
       "      <td>male</td>\n",
       "      <td>34.5</td>\n",
       "      <td>0</td>\n",
       "      <td>0</td>\n",
       "      <td>330911</td>\n",
       "      <td>7.8292</td>\n",
       "      <td>NaN</td>\n",
       "      <td>Q</td>\n",
       "    </tr>\n",
       "    <tr>\n",
       "      <th>1</th>\n",
       "      <td>893</td>\n",
       "      <td>3</td>\n",
       "      <td>Wilkes, Mrs. James (Ellen Needs)</td>\n",
       "      <td>female</td>\n",
       "      <td>47.0</td>\n",
       "      <td>1</td>\n",
       "      <td>0</td>\n",
       "      <td>363272</td>\n",
       "      <td>7.0000</td>\n",
       "      <td>NaN</td>\n",
       "      <td>S</td>\n",
       "    </tr>\n",
       "    <tr>\n",
       "      <th>2</th>\n",
       "      <td>894</td>\n",
       "      <td>2</td>\n",
       "      <td>Myles, Mr. Thomas Francis</td>\n",
       "      <td>male</td>\n",
       "      <td>62.0</td>\n",
       "      <td>0</td>\n",
       "      <td>0</td>\n",
       "      <td>240276</td>\n",
       "      <td>9.6875</td>\n",
       "      <td>NaN</td>\n",
       "      <td>Q</td>\n",
       "    </tr>\n",
       "    <tr>\n",
       "      <th>3</th>\n",
       "      <td>895</td>\n",
       "      <td>3</td>\n",
       "      <td>Wirz, Mr. Albert</td>\n",
       "      <td>male</td>\n",
       "      <td>27.0</td>\n",
       "      <td>0</td>\n",
       "      <td>0</td>\n",
       "      <td>315154</td>\n",
       "      <td>8.6625</td>\n",
       "      <td>NaN</td>\n",
       "      <td>S</td>\n",
       "    </tr>\n",
       "    <tr>\n",
       "      <th>4</th>\n",
       "      <td>896</td>\n",
       "      <td>3</td>\n",
       "      <td>Hirvonen, Mrs. Alexander (Helga E Lindqvist)</td>\n",
       "      <td>female</td>\n",
       "      <td>22.0</td>\n",
       "      <td>1</td>\n",
       "      <td>1</td>\n",
       "      <td>3101298</td>\n",
       "      <td>12.2875</td>\n",
       "      <td>NaN</td>\n",
       "      <td>S</td>\n",
       "    </tr>\n",
       "  </tbody>\n",
       "</table>\n",
       "</div>"
      ],
      "text/plain": [
       "   PassengerId  Pclass                                          Name     Sex  \\\n",
       "0          892       3                              Kelly, Mr. James    male   \n",
       "1          893       3              Wilkes, Mrs. James (Ellen Needs)  female   \n",
       "2          894       2                     Myles, Mr. Thomas Francis    male   \n",
       "3          895       3                              Wirz, Mr. Albert    male   \n",
       "4          896       3  Hirvonen, Mrs. Alexander (Helga E Lindqvist)  female   \n",
       "\n",
       "    Age  SibSp  Parch   Ticket     Fare Cabin Embarked  \n",
       "0  34.5      0      0   330911   7.8292   NaN        Q  \n",
       "1  47.0      1      0   363272   7.0000   NaN        S  \n",
       "2  62.0      0      0   240276   9.6875   NaN        Q  \n",
       "3  27.0      0      0   315154   8.6625   NaN        S  \n",
       "4  22.0      1      1  3101298  12.2875   NaN        S  "
      ]
     },
     "execution_count": 59,
     "metadata": {},
     "output_type": "execute_result"
    }
   ],
   "source": [
    "# Read test data from data folder\n",
    "\n",
    "test_data = pd.read_csv(\"./data/test.csv\")\n",
    "test_data.head()"
   ]
  },
  {
   "cell_type": "code",
   "execution_count": 60,
   "id": "95cfbc83",
   "metadata": {},
   "outputs": [
    {
     "name": "stdout",
     "output_type": "stream",
     "text": [
      "% of female survived : 74.20382165605095\n"
     ]
    }
   ],
   "source": [
    "# chacking female survival rate\n",
    "\n",
    "# Getting total data of Women from dataSet\n",
    "female_data = training_data.loc[training_data.Sex == \"female\"]\n",
    "\n",
    "# female_data  (This line prints total data of females)\n",
    "\n",
    "# Getting Survival Column of data of females\n",
    "female = female_data[\"Survived\"]\n",
    "\n",
    "# female   (This line prints survived column of female_data)\n",
    "\n",
    "# Since survived people are denoted by 1 and dead by 0. sum() calculates all 1's and gives count of all survived females\n",
    "total_female_survived = sum(female)  \n",
    "\n",
    "# total_female_survived \n",
    "\n",
    "# len() calulates total number of rows in female dataset\n",
    "total_female = len(female)\n",
    "\n",
    "female_survival_rate = (total_female_survived / total_female)*100\n",
    "\n",
    "print(\"% of female survived :\", female_survival_rate)\n"
   ]
  },
  {
   "cell_type": "code",
   "execution_count": 61,
   "id": "2fcaaba0",
   "metadata": {},
   "outputs": [
    {
     "name": "stdout",
     "output_type": "stream",
     "text": [
      "% of male survived : 18.890814558058924\n"
     ]
    }
   ],
   "source": [
    "# checking male survival rate\n",
    "\n",
    "# getting male data from dataset\n",
    "male_data = training_data.loc[training_data.Sex == \"male\"]\n",
    "\n",
    "# male (prints dataset of male only from total dataset)\n",
    "\n",
    "# getting survival column of male\n",
    "male = male_data[\"Survived\"]\n",
    "\n",
    "total_male_survived = sum(male)\n",
    "\n",
    "total_male = len(male)\n",
    "\n",
    "male_survival_rate = (total_male_survived / total_male) * 100;\n",
    "\n",
    "print(\"% of male survived :\", male_survival_rate)"
   ]
  },
  {
   "cell_type": "markdown",
   "id": "defa72da",
   "metadata": {},
   "source": [
    "##### Since 80% of survivals consists of females, this can be a good parameter to train model with quite a good accuracy.\n",
    "\n",
    "#### To increase accuracy of prediction, we can use multiple parameters.\n",
    "##### To get most out multiple parameters, we can use RandomForestClassifier from sklearn library, which gives result on majority outcomes.\n"
   ]
  },
  {
   "cell_type": "code",
   "execution_count": 62,
   "id": "6268f60c",
   "metadata": {},
   "outputs": [],
   "source": [
    "from sklearn.ensemble import RandomForestClassifier\n",
    "\n",
    "# import RandomForestClassifer class from sklearn library\n",
    "\n",
    "# make a model\n",
    "model = RandomForestClassifier(n_estimators = 100, max_depth = 5, random_state = 1)\n",
    "\n"
   ]
  },
  {
   "attachments": {},
   "cell_type": "markdown",
   "id": "c2d5c7d2",
   "metadata": {},
   "source": [
    "### RandomForestClassifier works on making various decision tree and giving output as most obtained value from all decision tree. \n",
    "\n",
    "#### n_estimators tells the number of decision tree going to be made while training model. Making this a suitably large increases the accuracy of our model but making it too large cause size problem.\n",
    "#### max_depth tells the depth up to which decision tree will grow. Making it large also causes size problem. So, it should have a sufficiently large value.\n",
    "#### random_state allows to choose random data sets from total data sets for training purposes. Making its value 0 will give same result over multiple time running these while > 0 causes it change data sets. lower its value more consistent the result will be."
   ]
  },
  {
   "cell_type": "code",
   "execution_count": 63,
   "id": "a8b799c0",
   "metadata": {},
   "outputs": [],
   "source": [
    "# paramters on which model is going to be trained\n",
    "features = [\"Pclass\", \"Sex\", \"SibSp\", \"Parch\"]\n",
    "\n",
    "# my model will be predicting the survival rate so Y = training_data[\"Survived\"]\n",
    "Y = training_data[\"Survived\"]\n",
    "\n",
    "# converting all features value to numbers for model to work upon\n",
    "X = pd.get_dummies(training_data[features])\n",
    "\n",
    "# for prediction, converting those features values as numbers upon which our models have been trained.\n",
    "X_test = pd.get_dummies(test_data[features])\n"
   ]
  },
  {
   "attachments": {
    "image-2.png": {
     "image/png": "[encoded data removed]"
    },
    "image-3.png": {
     "image/png": "[encoded data removed]"
    },
    "image.png": {
     "image/png": "[encoded data removed]"
    }
   },
   "cell_type": "markdown",
   "id": "9ca7d321",
   "metadata": {},
   "source": [
    "#### pd.get_dummies() make dummy column and convert row value into unique column value with its values as 0 or 1. As for example, Sex column consists of String value i.e., male and female. but ML models work on numerical data. so pd.get_dummies(training_data.Sex) will convert it into columns name Sex_male and Sex_female.\n",
    "\n",
    "![image-3.png](attachment:image-3.png)\n",
    "\n",
    "#### Here, row containing Sex as male is 1 and female as 0 in Sex_male column. Similarly, 1's and 0's are filled in Sex_female column. Other features reamained unchaged because their values are already numbers.\n",
    "\n",
    "#### we can change the name of those dummies like for Sex_male as male only by providing hyperparameters to pd.get_dummies() method.\n",
    "\n",
    "#### pd.get_dummies(training_data.Sex, prefix = \"gen\", prefix_sep = \"=\")\n",
    "![image-2.png](attachment:image-2.png)\n",
    "\n",
    "#### As for example, pd.get_dummies(training_data.Sex, prefix = None)\n",
    "![image.png](attachment:image.png)"
   ]
  },
  {
   "cell_type": "code",
   "execution_count": 64,
   "id": "c9d208bf",
   "metadata": {},
   "outputs": [
    {
     "name": "stdout",
     "output_type": "stream",
     "text": [
      "Output Stored Successfully !!!\n"
     ]
    }
   ],
   "source": [
    "# Training of Model\n",
    "model.fit(X, Y)\n",
    "\n",
    "# making predictions\n",
    "\n",
    "prediction = model.predict(X_test)\n",
    "\n",
    "# converting the predictions into DataFrame\n",
    "\n",
    "output = pd.DataFrame({\"passengerID\" : test_data.PassengerId, \"Name\" : test_data.Name, \"Survival\" : prediction})\n",
    "\n",
    "# Storing the predictions in another csv file\n",
    "output.to_csv(\"./data/Predictions.csv\", index = False)\n",
    "\n",
    "print(\"Output Stored Successfully !!!\")"
   ]
  },
  {
   "cell_type": "markdown",
   "id": "e7caa8ec",
   "metadata": {},
   "source": [
    "#### output.to_csv(). index = True adds index to the csv file while index = False don't make index column."
   ]
  }
 ],
 "metadata": {
  "kernelspec": {
   "display_name": "Python 3 (ipykernel)",
   "language": "python",
   "name": "python3"
  },
  "language_info": {
   "codemirror_mode": {
    "name": "ipython",
    "version": 3
   },
   "file_extension": ".py",
   "mimetype": "text/x-python",
   "name": "python",
   "nbconvert_exporter": "python",
   "pygments_lexer": "ipython3",
   "version": "3.9.7"
  }
 },
 "nbformat": 4,
 "nbformat_minor": 5
}
